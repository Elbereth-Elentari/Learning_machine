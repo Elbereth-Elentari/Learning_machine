{
 "cells": [
  {
   "cell_type": "code",
   "execution_count": 1,
   "metadata": {},
   "outputs": [],
   "source": [
    "import csv"
   ]
  },
  {
   "cell_type": "code",
   "execution_count": 2,
   "metadata": {},
   "outputs": [],
   "source": [
    "max_definitions = {\"0\" : 20, \"1\" : 30, \"2\" : 45, \"3\" : 68, \"4\" : 101}\n",
    "session_limit = 50"
   ]
  },
  {
   "cell_type": "code",
   "execution_count": 3,
   "metadata": {},
   "outputs": [
    {
     "name": "stdout",
     "output_type": "stream",
     "text": [
      "Last level: 0\n"
     ]
    }
   ],
   "source": [
    "# Saves a string for the last level\n",
    "with open(\"last_level.txt\", \"r\") as saved_level:\n",
    "    for line in saved_level:\n",
    "        line = line.strip()\n",
    "        last_level = line\n",
    "print(\"Last level:\", last_level)"
   ]
  },
  {
   "cell_type": "code",
   "execution_count": 4,
   "metadata": {},
   "outputs": [],
   "source": [
    "def check_for_max(current_level):\n",
    "    next_level = int(current_level) + 1\n",
    "    max_for_level = max_definitions[str(next_level)]\n",
    "    next_level_count = 0\n",
    "    for line in fiszki:\n",
    "        if line[2] == str(next_level):\n",
    "            next_level_count += 1\n",
    "    if next_level_count < max_for_level:\n",
    "        change_level = False\n",
    "    else:\n",
    "        change_level = True\n",
    "    return change_level"
   ]
  },
  {
   "cell_type": "code",
   "execution_count": 5,
   "metadata": {},
   "outputs": [],
   "source": [
    "# Saves an integer of the next level\n",
    "def find_max(current_level):\n",
    "    level = int(current_level) - 1\n",
    "    next_level = 0\n",
    "    while level > 0:\n",
    "        max_for_level = max_definitions[str(level)]\n",
    "        level_count = 0\n",
    "        for line in fiszki:\n",
    "            if line[2] == str(level):\n",
    "                level_count += 1\n",
    "        if level_count >= max_for_level:\n",
    "            next_level = level\n",
    "            break\n",
    "        else:\n",
    "            level -= 1\n",
    "    return next_level"
   ]
  },
  {
   "cell_type": "code",
   "execution_count": 6,
   "metadata": {},
   "outputs": [],
   "source": [
    "# Updates the level for the question and saves it as an integer\n",
    "def handle_question(line):\n",
    "    print(\"Question:\", line[0])\n",
    "    answer = input(\"Answer:\")\n",
    "    if answer == line[1]:\n",
    "        line[2] = int(line[2])\n",
    "        line[2] += 1\n",
    "        print(\"Correct.\")\n",
    "    else:\n",
    "        print(\"Wrong.\")\n",
    "        print(line[1])\n",
    "    return line"
   ]
  },
  {
   "cell_type": "code",
   "execution_count": null,
   "metadata": {},
   "outputs": [
    {
     "name": "stdout",
     "output_type": "stream",
     "text": [
      "Question: Return the absolute value of a number\n",
      "Answer:abs()\n",
      "Correct.\n",
      "Question: Return True if any element of the iterable is true. If the iterable is empty, return False.\n",
      "Answer:\n",
      "Wrong.\n",
      "any()\n",
      "Question: drops you into the debugger at the call site\n",
      "Answer:\n",
      "Wrong.\n",
      "breakpoint()\n",
      "Question: Return the string representing a character whose Unicode code point is the integer i.\n",
      "Answer:\n",
      "Wrong.\n",
      "chr()\n",
      "Question: returns a tuple containing a count (from start which defaults to 0) and the values obtained from iterating over iterable.\n",
      "Answer:\n",
      "Wrong.\n",
      "enumerate()\n",
      "Question: Create a new dictionary.\n",
      "Answer:\n",
      "Wrong.\n",
      "dict()\n",
      "Question: Return a floating point number constructed from a number or string x.\n",
      "Answer:\n",
      "Wrong.\n",
      "float()\n",
      "Question: Invoke the built-in help system.\n",
      "Answer:\n",
      "Wrong.\n",
      "help()\n",
      "Question: Return the “identity” of an object. This is an integer which is guaranteed to be unique and constant for this object during its lifetime.\n",
      "Answer:\n",
      "Wrong.\n",
      "id()\n",
      "Question: If the prompt argument is present, it is written to standard output without a trailing newline. The function then reads a line from input, converts it to a string (stripping a trailing newline), and returns that.\n",
      "Answer:\n",
      "Wrong.\n",
      "input()\n",
      "Question: Return an integer object constructed from a number or string x, or return 0 if no arguments are given.\n",
      "Answer:\n",
      "Wrong.\n",
      "int()\n",
      "Question: Return the length (the number of items) of an object.\n",
      "Answer:\n",
      "Wrong.\n",
      "len()\n",
      "Question: Create a new list.\n",
      "Answer:\n",
      "Wrong.\n",
      "list()\n",
      "Question: Return an iterator that applies function to every item of iterable, yielding the results.\n"
     ]
    }
   ],
   "source": [
    "session_count = 0\n",
    "current_level = int(last_level) # Current_level is an integer\n",
    "with open(\"fiszki.csv\", \"r\") as fiszki:\n",
    "    fiszki = list(csv.reader(fiszki))\n",
    "    while session_count < session_limit:\n",
    "        \n",
    "        # Check if there are questions at the current level. This is iterative, because we want to exhaust the current level.\n",
    "        question_count = 0\n",
    "        for line in fiszki:\n",
    "            if line[2] == str(current_level):\n",
    "                question_count += 1\n",
    "                \n",
    "        if question_count == 0:            \n",
    "            # Find another level, save it as integer\n",
    "            current_level = find_max(current_level)\n",
    "            print(\"NEW LEVEL:\", current_level)\n",
    "            \n",
    "        else:\n",
    "            # Check if the level directly above hasn't maxed up. If it has, we have to go to that level before continuing.\n",
    "            # The new level is saved as an integer.\n",
    "            if current_level < 4:\n",
    "                change_level = check_for_max(current_level)\n",
    "                if change_level:\n",
    "                    current_level += 1\n",
    "                    print(\"NEW LEVEL:\", current_level)\n",
    "                    \n",
    "            # Display as many questions as possible: either before session end, or before end of questions at the level.\n",
    "            for line in fiszki:\n",
    "                if session_count < session_limit and line[2] == str(current_level):\n",
    "                    line = handle_question(line)\n",
    "                    session_count += 1"
   ]
  },
  {
   "cell_type": "code",
   "execution_count": 26,
   "metadata": {},
   "outputs": [],
   "source": [
    "with open(\"fiszki.csv\", \"w\", newline = \"\") as nowe_fiszki:\n",
    "    nowe_fiszki = csv.writer(nowe_fiszki)\n",
    "    for line in fiszki:\n",
    "        if int(line[2]) < 5:\n",
    "            nowe_fiszki.writerow(line)"
   ]
  },
  {
   "cell_type": "code",
   "execution_count": 19,
   "metadata": {},
   "outputs": [],
   "source": [
    "if last_level != str(current_level):\n",
    "    with open(\"last_level.txt\", \"w\") as new:\n",
    "        new.write(current_level)"
   ]
  },
  {
   "cell_type": "code",
   "execution_count": null,
   "metadata": {},
   "outputs": [],
   "source": []
  }
 ],
 "metadata": {
  "kernelspec": {
   "display_name": "Python 3",
   "language": "python",
   "name": "python3"
  },
  "language_info": {
   "codemirror_mode": {
    "name": "ipython",
    "version": 3
   },
   "file_extension": ".py",
   "mimetype": "text/x-python",
   "name": "python",
   "nbconvert_exporter": "python",
   "pygments_lexer": "ipython3",
   "version": "3.6.5"
  }
 },
 "nbformat": 4,
 "nbformat_minor": 2
}
