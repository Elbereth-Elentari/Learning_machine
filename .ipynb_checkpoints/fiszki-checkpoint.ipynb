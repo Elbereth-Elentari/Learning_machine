{
 "cells": [
  {
   "cell_type": "code",
   "execution_count": 1,
   "metadata": {},
   "outputs": [],
   "source": [
    "import csv\n",
    "import random"
   ]
  },
  {
   "cell_type": "code",
   "execution_count": 2,
   "metadata": {},
   "outputs": [],
   "source": [
    "max_definitions = [20, 30, 45, 68, 101]\n",
    "session_limit = 50"
   ]
  },
  {
   "cell_type": "code",
   "execution_count": 3,
   "metadata": {},
   "outputs": [
    {
     "name": "stdout",
     "output_type": "stream",
     "text": [
      "Last level: 0\n"
     ]
    }
   ],
   "source": [
    "# Saves a string for the last level\n",
    "with open(\"last_level.txt\", \"r\") as saved_level:\n",
    "    for line in saved_level:\n",
    "        line = line.strip()\n",
    "        last_level = line\n",
    "print(\"Last level:\", last_level)"
   ]
  },
  {
   "cell_type": "code",
   "execution_count": 4,
   "metadata": {},
   "outputs": [],
   "source": [
    "def check_for_max(current_level):\n",
    "    next_level = int(current_level) + 1\n",
    "    max_for_level = max_definitions[int(next_level)]\n",
    "    next_level_count = sum(line[2] == str(next_level) for line in fiszki)\n",
    "    if next_level_count < max_for_level:\n",
    "        change_level = False\n",
    "    else:\n",
    "        change_level = True\n",
    "    return change_level"
   ]
  },
  {
   "cell_type": "code",
   "execution_count": 16,
   "metadata": {},
   "outputs": [],
   "source": [
    "# Saves an integer of the next level\n",
    "def find_max(current_level):\n",
    "    level = int(current_level) - 1\n",
    "    next_level = 0\n",
    "    while level > 0:\n",
    "        max_for_level = max_definitions[level]\n",
    "        level_count = sum(line[2] == str(level) for line in fiszki)\n",
    "        if level_count >= max_for_level:\n",
    "            next_level = level\n",
    "            break\n",
    "        else:\n",
    "            level -= 1\n",
    "    \n",
    "    if next_level == 0:\n",
    "        if sum(line[2] == \"0\" for line in fiszki) == 0:\n",
    "            x = 1\n",
    "            while x in range(1, 5):\n",
    "                if sum(line[2] == str(x) for line in fiszki) > 0:\n",
    "                    next_level = x\n",
    "                    break\n",
    "                else:\n",
    "                    x += 1\n",
    "            if next_level == 0:\n",
    "                next_level = 5\n",
    "    \n",
    "    return next_level"
   ]
  },
  {
   "cell_type": "code",
   "execution_count": 6,
   "metadata": {},
   "outputs": [],
   "source": [
    "# Updates the level for the question and saves it as an integer\n",
    "def handle_question(line):\n",
    "    print(\"Question:\", line[0])\n",
    "    answer = input(\"Answer:\")\n",
    "    if answer == line[1]:\n",
    "        line[2] = int(line[2])\n",
    "        line[2] += 1\n",
    "        print(\"Correct.\")\n",
    "    else:\n",
    "        print(\"Wrong.\")\n",
    "        print(line[1])\n",
    "    return line"
   ]
  },
  {
   "cell_type": "code",
   "execution_count": 12,
   "metadata": {
    "scrolled": false
   },
   "outputs": [
    {
     "name": "stdout",
     "output_type": "stream",
     "text": [
      "Question: Method sorting list s in place, in descending order.\n",
      "Answer:sort(s, reverse=True)\n",
      "Correct.\n",
      "Question: Is a set mutable?\n",
      "Answer:yes\n",
      "Correct.\n",
      "Question: Test whether the set is a proper subset of other, that is, set <= other and set != other.\n",
      "Answer:set < other\n",
      "Correct.\n",
      "Question: return an integer representing the Unicode code point of a character\n",
      "Answer:\n",
      "Wrong.\n",
      "ord()\n",
      "Question: Return an integer object constructed from a number or string, or return 0 if no arguments are given.\n",
      "Answer:int()\n",
      "Correct.\n",
      "Question: Return an iterator that applies function to every item of iterable, yielding the results.\n",
      "Answer:map()\n",
      "Correct.\n",
      "Question: Retrieve the subsequent item from the iterator.\n",
      "Answer:next()\n",
      "Correct.\n",
      "Question: Return True if the set has no elements in common with other. Sets are disjoint if and only if their intersection is the empty set.\n",
      "Answer:set != other\n",
      "Wrong.\n",
      "isdisjoint(other)\n",
      "Question: Split string k at the first occurrence of m, and return a 3-tuple containing the part before the separator, the separator itself, and the part after the separator.\n",
      "Answer:k.split(m)\n",
      "Wrong.\n",
      "k.partition(m)\n",
      "Question: index of the first occurrence of x in s (at or after index i and before index j)\n",
      "Answer:s.index(x, i, j)\n",
      "Correct.\n",
      "Question: Test whether every element in the set is in other.\n",
      "Answer:set < other\n",
      "Wrong.\n",
      "set <= other\n",
      "Question: drops you into the debugger at the call site\n",
      "Answer:breakpoint()\n",
      "Correct.\n",
      "Question: Return the string representing a character whose Unicode code point is the integer i.\n",
      "Answer:chr(i)\n",
      "Correct.\n",
      "Question: Method sorting list s in place, in ascending order.\n",
      "Answer:sort(s, reverse=False)\n",
      "Correct.\n",
      "Question: Is a set ordered?\n",
      "Answer:no\n",
      "Correct.\n",
      "Question: open a disk file for updating (reading and writing)\n",
      "Answer:+\n",
      "Correct.\n",
      "Question: returns a tuple containing a count (from start which defaults to 0) and the values obtained from iterating over iterable.\n",
      "Answer:\n",
      "Wrong.\n",
      "enumerate()\n",
      "Question: Return a copy of string s in which each character has been mapped through the given translation table.\n",
      "Answer:s.translate()\n",
      "Correct.\n",
      "Question: Return x to the power y\n",
      "Answer:x.pow(y)\n",
      "Wrong.\n",
      "pow(x, y)\n",
      "Question: return an integer representing the Unicode code point of a character\n",
      "Answer:\n",
      "Wrong.\n",
      "ord()\n",
      "Question: Return True if the set has no elements in common with other. Sets are disjoint if and only if their intersection is the empty set.\n",
      "Answer:set.isdisjoint(other)\n",
      "Wrong.\n",
      "isdisjoint(other)\n",
      "Question: Split string k at the first occurrence of m, and return a 3-tuple containing the part before the separator, the separator itself, and the part after the separator.\n",
      "Answer:k.partition(m)\n",
      "Correct.\n",
      "Question: Test whether every element in the set is in other.\n",
      "Answer:set <= other\n",
      "Correct.\n",
      "Question: returns a tuple containing a count (from start which defaults to 0) and the values obtained from iterating over iterable.\n",
      "Answer:enumerate()\n",
      "Correct.\n",
      "Question: Return x to the power y\n",
      "Answer:pow(x, y)\n",
      "Correct.\n",
      "Question: return an integer representing the Unicode code point of a character\n",
      "Answer:\n",
      "Wrong.\n",
      "ord()\n",
      "Question: Return True if the set has no elements in common with other. Sets are disjoint if and only if their intersection is the empty set.\n",
      "Answer:isdisjoint(other)\n",
      "Correct.\n",
      "Question: return an integer representing the Unicode code point of a character\n",
      "Answer:ord()\n",
      "Correct.\n",
      "NEW LEVEL: 1\n",
      "Question: Return the number of non-overlapping occurrences of substring d in the range [start, end] of string c.\n",
      "Answer:c.count(d, start, end)\n",
      "Correct.\n",
      "Question: open for exclusive creation, failing if the file already exists\n",
      "Answer:x\n",
      "Correct.\n",
      "Question: remove all case distinctions in string b\n",
      "Answer:b.casefold()\n",
      "Correct.\n",
      "Question: removes all items from s (same as del s[:])\n",
      "Answer:s.clear()\n",
      "Correct.\n",
      "Question: Sums start and the items of an iterable from left to right and returns the total.\n",
      "Answer:sum()\n",
      "Correct.\n",
      "Question: If the prompt argument is present, it is written to standard output without a trailing newline. The function then reads a line from input, converts it to a string (stripping a trailing newline), and returns that.\n",
      "Answer:input()\n",
      "Correct.\n"
     ]
    },
    {
     "ename": "KeyboardInterrupt",
     "evalue": "",
     "output_type": "error",
     "traceback": [
      "\u001b[1;31m---------------------------------------------------------------------------\u001b[0m",
      "\u001b[1;31mKeyboardInterrupt\u001b[0m                         Traceback (most recent call last)",
      "\u001b[1;32m<ipython-input-12-7d485b5a54dc>\u001b[0m in \u001b[0;36m<module>\u001b[1;34m\u001b[0m\n\u001b[0;32m     11\u001b[0m         \u001b[1;32mif\u001b[0m \u001b[0mquestion_count\u001b[0m \u001b[1;33m==\u001b[0m \u001b[1;36m0\u001b[0m\u001b[1;33m:\u001b[0m\u001b[1;33m\u001b[0m\u001b[0m\n\u001b[0;32m     12\u001b[0m             \u001b[1;31m# Find another level, save it as integer\u001b[0m\u001b[1;33m\u001b[0m\u001b[1;33m\u001b[0m\u001b[0m\n\u001b[1;32m---> 13\u001b[1;33m             \u001b[0mcurrent_level\u001b[0m \u001b[1;33m=\u001b[0m \u001b[0mfind_max\u001b[0m\u001b[1;33m(\u001b[0m\u001b[0mcurrent_level\u001b[0m\u001b[1;33m)\u001b[0m\u001b[1;33m\u001b[0m\u001b[0m\n\u001b[0m\u001b[0;32m     14\u001b[0m             \u001b[1;32mif\u001b[0m \u001b[0mcurrent_level\u001b[0m \u001b[1;33m<\u001b[0m \u001b[1;36m5\u001b[0m\u001b[1;33m:\u001b[0m\u001b[1;33m\u001b[0m\u001b[0m\n\u001b[0;32m     15\u001b[0m                 \u001b[0mprint\u001b[0m\u001b[1;33m(\u001b[0m\u001b[1;34m\"NEW LEVEL:\"\u001b[0m\u001b[1;33m,\u001b[0m \u001b[0mcurrent_level\u001b[0m\u001b[1;33m)\u001b[0m\u001b[1;33m\u001b[0m\u001b[0m\n",
      "\u001b[1;32m<ipython-input-11-41b1d25091bf>\u001b[0m in \u001b[0;36mfind_max\u001b[1;34m(current_level)\u001b[0m\n\u001b[0;32m     16\u001b[0m             \u001b[0mx\u001b[0m \u001b[1;33m=\u001b[0m \u001b[1;36m1\u001b[0m\u001b[1;33m\u001b[0m\u001b[0m\n\u001b[0;32m     17\u001b[0m             \u001b[1;32mwhile\u001b[0m \u001b[0mx\u001b[0m \u001b[1;32min\u001b[0m \u001b[0mrange\u001b[0m\u001b[1;33m(\u001b[0m\u001b[1;36m1\u001b[0m\u001b[1;33m,\u001b[0m \u001b[1;36m5\u001b[0m\u001b[1;33m)\u001b[0m\u001b[1;33m:\u001b[0m\u001b[1;33m\u001b[0m\u001b[0m\n\u001b[1;32m---> 18\u001b[1;33m                 \u001b[1;32mif\u001b[0m \u001b[0msum\u001b[0m\u001b[1;33m(\u001b[0m\u001b[0mline\u001b[0m\u001b[1;33m[\u001b[0m\u001b[1;36m2\u001b[0m\u001b[1;33m]\u001b[0m \u001b[1;33m==\u001b[0m \u001b[0mstr\u001b[0m\u001b[1;33m(\u001b[0m\u001b[0mx\u001b[0m\u001b[1;33m)\u001b[0m \u001b[1;32mfor\u001b[0m \u001b[0mline\u001b[0m \u001b[1;32min\u001b[0m \u001b[0mfiszki\u001b[0m\u001b[1;33m)\u001b[0m \u001b[1;33m>\u001b[0m \u001b[1;36m0\u001b[0m\u001b[1;33m:\u001b[0m\u001b[1;33m\u001b[0m\u001b[0m\n\u001b[0m\u001b[0;32m     19\u001b[0m                     \u001b[0mnext_level\u001b[0m \u001b[1;33m=\u001b[0m \u001b[0mx\u001b[0m\u001b[1;33m\u001b[0m\u001b[0m\n\u001b[0;32m     20\u001b[0m                     \u001b[1;32mbreak\u001b[0m\u001b[1;33m\u001b[0m\u001b[0m\n",
      "\u001b[1;32m<ipython-input-11-41b1d25091bf>\u001b[0m in \u001b[0;36m<genexpr>\u001b[1;34m(.0)\u001b[0m\n\u001b[0;32m     16\u001b[0m             \u001b[0mx\u001b[0m \u001b[1;33m=\u001b[0m \u001b[1;36m1\u001b[0m\u001b[1;33m\u001b[0m\u001b[0m\n\u001b[0;32m     17\u001b[0m             \u001b[1;32mwhile\u001b[0m \u001b[0mx\u001b[0m \u001b[1;32min\u001b[0m \u001b[0mrange\u001b[0m\u001b[1;33m(\u001b[0m\u001b[1;36m1\u001b[0m\u001b[1;33m,\u001b[0m \u001b[1;36m5\u001b[0m\u001b[1;33m)\u001b[0m\u001b[1;33m:\u001b[0m\u001b[1;33m\u001b[0m\u001b[0m\n\u001b[1;32m---> 18\u001b[1;33m                 \u001b[1;32mif\u001b[0m \u001b[0msum\u001b[0m\u001b[1;33m(\u001b[0m\u001b[0mline\u001b[0m\u001b[1;33m[\u001b[0m\u001b[1;36m2\u001b[0m\u001b[1;33m]\u001b[0m \u001b[1;33m==\u001b[0m \u001b[0mstr\u001b[0m\u001b[1;33m(\u001b[0m\u001b[0mx\u001b[0m\u001b[1;33m)\u001b[0m \u001b[1;32mfor\u001b[0m \u001b[0mline\u001b[0m \u001b[1;32min\u001b[0m \u001b[0mfiszki\u001b[0m\u001b[1;33m)\u001b[0m \u001b[1;33m>\u001b[0m \u001b[1;36m0\u001b[0m\u001b[1;33m:\u001b[0m\u001b[1;33m\u001b[0m\u001b[0m\n\u001b[0m\u001b[0;32m     19\u001b[0m                     \u001b[0mnext_level\u001b[0m \u001b[1;33m=\u001b[0m \u001b[0mx\u001b[0m\u001b[1;33m\u001b[0m\u001b[0m\n\u001b[0;32m     20\u001b[0m                     \u001b[1;32mbreak\u001b[0m\u001b[1;33m\u001b[0m\u001b[0m\n",
      "\u001b[1;31mKeyboardInterrupt\u001b[0m: "
     ]
    }
   ],
   "source": [
    "session_count = 0\n",
    "current_level = int(last_level) # Current_level is an integer\n",
    "with open(\"fiszki.csv\", \"r\") as fiszki:\n",
    "    fiszki = list(csv.reader(fiszki))\n",
    "    random.shuffle(fiszki)\n",
    "    while session_count < session_limit:\n",
    "        \n",
    "        # Check if there are questions at the current level. This is iterative, because we want to exhaust the current level.\n",
    "        question_count = sum(line[2] == str(current_level) for line in fiszki)\n",
    "                \n",
    "        if question_count == 0:       \n",
    "            print(\"NO MORE QUESTIONS AT LEVEL\", current_level)\n",
    "            # Find another level, save it as integer\n",
    "            current_level = find_max(current_level)\n",
    "            if current_level < 5:\n",
    "                print(\"NEW LEVEL:\", current_level)\n",
    "            else:\n",
    "                print(\"NO MORE QUESTIONS.\")\n",
    "                break\n",
    "            \n",
    "        else:\n",
    "            for line in fiszki:\n",
    "                if session_count < session_limit:\n",
    "                    # Check if the level directly above hasn't maxed up. If it has, we have to go to that level before continuing.\n",
    "                    # The new level is saved as an integer.\n",
    "                    if current_level < 4:\n",
    "                        change_level = check_for_max(current_level)\n",
    "                        if change_level:\n",
    "                            current_level += 1\n",
    "                            print(\"NEW LEVEL:\", current_level)\n",
    "                    if line[2] == str(current_level):\n",
    "                        # Display as many questions as possible: either before session end, or before end of questions at the level.\n",
    "                        line = handle_question(line)\n",
    "                        session_count += 1"
   ]
  },
  {
   "cell_type": "code",
   "execution_count": 13,
   "metadata": {},
   "outputs": [],
   "source": [
    "with open(\"fiszki.csv\", \"w\", newline = \"\") as nowe_fiszki, open(\"answered_questions.csv\", \"a+\", newline = \"\") as answered:\n",
    "    nowe_fiszki = csv.writer(nowe_fiszki)\n",
    "    answered = csv.writer(answered)\n",
    "    for line in fiszki:\n",
    "        if int(line[2]) < 5:\n",
    "            nowe_fiszki.writerow(line)\n",
    "        else:\n",
    "            answered.writerow(line)"
   ]
  },
  {
   "cell_type": "code",
   "execution_count": 14,
   "metadata": {},
   "outputs": [],
   "source": [
    "if last_level != str(current_level):\n",
    "    with open(\"last_level.txt\", \"w\") as new:\n",
    "        new.write(str(current_level))"
   ]
  },
  {
   "cell_type": "code",
   "execution_count": 18,
   "metadata": {},
   "outputs": [
    {
     "name": "stdout",
     "output_type": "stream",
     "text": [
      "Remaining questions at level 0: 0\n"
     ]
    }
   ],
   "source": [
    "remaining_level_0 = sum(line[2] == \"0\" for line in fiszki)\n",
    "print(\"Remaining questions at level 0:\", remaining_level_0)"
   ]
  },
  {
   "cell_type": "code",
   "execution_count": null,
   "metadata": {},
   "outputs": [],
   "source": []
  }
 ],
 "metadata": {
  "kernelspec": {
   "display_name": "Python 3",
   "language": "python",
   "name": "python3"
  },
  "language_info": {
   "codemirror_mode": {
    "name": "ipython",
    "version": 3
   },
   "file_extension": ".py",
   "mimetype": "text/x-python",
   "name": "python",
   "nbconvert_exporter": "python",
   "pygments_lexer": "ipython3",
   "version": "3.6.5"
  }
 },
 "nbformat": 4,
 "nbformat_minor": 2
}
